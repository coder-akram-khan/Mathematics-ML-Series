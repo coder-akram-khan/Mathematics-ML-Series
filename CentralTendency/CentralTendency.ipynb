{
 "cells": [
  {
   "cell_type": "markdown",
   "id": "5340d03f-fd2e-495c-9d29-1837f3358fbb",
   "metadata": {},
   "source": [
    "# **Central Tendency :** mean  median mode\n"
   ]
  },
  {
   "cell_type": "code",
   "execution_count": 1,
   "id": "8860232e-d399-4286-bd89-13187596bb82",
   "metadata": {},
   "outputs": [],
   "source": [
    "# Import necessary libraries\n",
    "import numpy as np\n",
    "from collections import Counter\n",
    "import statistics as st"
   ]
  },
  {
   "cell_type": "code",
   "execution_count": null,
   "id": "506e9f64-1da7-4d36-85ef-117170f17695",
   "metadata": {},
   "outputs": [],
   "source": [
    "# Mean: Average\n",
    "numbers = [12, 23, 45, 56]\n",
    "\n",
    "# Custom mean function\n",
    "def mean_num(numbers):\n",
    "    return sum(numbers) / len(numbers)\n",
    "\n",
    "mean = mean_num(numbers)\n",
    "print(f\"Custom Mean: {mean}\")\n",
    "\n",
    "# Using Numpy\n",
    "mean_np = np.mean(numbers)\n",
    "print(f\"Numpy Mean: {mean_np}\")"
   ]
  },
  {
   "cell_type": "code",
   "execution_count": null,
   "id": "f18d82cd-b61b-44ec-b9f3-1a5542731b23",
   "metadata": {},
   "outputs": [],
   "source": [
    "# Median: Middle Value of a Set of Numbers\n",
    "numbers = [12, 23, 15, 35, 16, 30]\n",
    "\n",
    "# Custom median function\n",
    "def median_num(lst_numbers):\n",
    "    lst_numbers.sort()\n",
    "    n = len(lst_numbers)\n",
    "    if n % 2 == 0:\n",
    "        median = (lst_numbers[n // 2 - 1] + lst_numbers[n // 2]) / 2\n",
    "    else:\n",
    "        median = lst_numbers[n // 2]\n",
    "    return median\n",
    "\n",
    "median = median_num(numbers)\n",
    "print(f\"Custom Median: {median}\")\n",
    "\n",
    "# Using Numpy\n",
    "median_np = np.median(numbers)\n",
    "print(f\"Numpy Median: {median_np}\")"
   ]
  },
  {
   "cell_type": "code",
   "execution_count": null,
   "id": "46631122-8c82-4a17-8765-2009a3fe062c",
   "metadata": {},
   "outputs": [],
   "source": [
    "# Mode: Value that appears most frequently\n",
    "numbers = [12, 15, 15, 23, 15, 30, 12]\n",
    "\n",
    "# Custom mode function\n",
    "def mode_num(lst_numbers):\n",
    "    count = Counter(lst_numbers)\n",
    "    return count.most_common(1)[0][0]\n",
    "\n",
    "mode = mode_num(numbers)\n",
    "print(f\"Custom Mode: {mode}\")\n",
    "\n",
    "# Using Statistics\n",
    "mode_st = st.mode(numbers)\n",
    "print(f\"Statistics Mode: {mode_st}\")\n",
    "numbers = [12, 15, 15, 23,15, 30, 12]\n",
    "mode_np = st.mode(numbers)\n",
    "print(mode_np)"
   ]
  },
  {
   "cell_type": "code",
   "execution_count": null,
   "id": "d0fd9d91-d9d0-4688-a698-b9606444a415",
   "metadata": {},
   "outputs": [],
   "source": []
  }
 ],
 "metadata": {
  "kernelspec": {
   "display_name": "Python 3 (ipykernel)",
   "language": "python",
   "name": "python3"
  },
  "language_info": {
   "codemirror_mode": {
    "name": "ipython",
    "version": 3
   },
   "file_extension": ".py",
   "mimetype": "text/x-python",
   "name": "python",
   "nbconvert_exporter": "python",
   "pygments_lexer": "ipython3",
   "version": "3.12.7"
  }
 },
 "nbformat": 4,
 "nbformat_minor": 5
}
